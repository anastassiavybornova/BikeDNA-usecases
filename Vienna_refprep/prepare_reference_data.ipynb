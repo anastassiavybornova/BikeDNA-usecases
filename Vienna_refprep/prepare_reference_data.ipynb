{
 "cells": [
  {
   "attachments": {},
   "cell_type": "markdown",
   "metadata": {},
   "source": [
    "# Preprocessing Vienna data for BikeDNA\n",
    "\n",
    "* Date of last edit: 2023-06-25\n",
    "* Data source: [Stadt Wien](https://www.data.gv.at/katalog/dataset/5e6175cd-dc44-4b32-a64a-1ac4239a6e4a#additional-info)\n",
    "\n",
    "Preprocessing steps:\n",
    "\n",
    "**In Python**\n",
    "\n",
    "1. Load data set as geodataframe \n",
    "2. Make sure each row contains a linestring geometry (explode if necessary)\n",
    "3. Explore data set features (which rows and columns are available? Which feature labels appear how often?)\n",
    "4. Drop not needed rows and columns\n",
    "5. Check CRS and (if it is a geographic one) project into projected CRS \n",
    "6. Add CRS info in the config file\n",
    "\n",
    "**In QGIS (only visual)**\n",
    "\n",
    "7. determine whether reference geometries are \"true geometries\" or \"centerline\"\n",
    "8. determine which parts of the infrastructure are bidirectional\n",
    "9. determine which parts of the infrastructure are protected/unprotected\n",
    "\n",
    "**In Python**\n",
    "\n",
    "10. add reference_geometry information (to config file or data frame)\n",
    "11. add bidirectionality information  (to config file or data frame) \n",
    "12. add protection level information (to config file)\n",
    "\n",
    "**In QGIS (processing!)**\n",
    "\n",
    "13. Make sure that each linestring endpoint represents an intersection by running the `split with lines` native QGIS processing tool on the dataset of linestrings\n",
    "14. Export (save) the split dataset \n",
    "\n",
    "**In Python**\n",
    "\n",
    "15. Load the split dataset\n",
    "16. Add unique ID column to geodataframe \n",
    "17. Save final gdf as required by BikeDNA\n",
    "18. Derive the \"study area polygon\" from the final dataset and save it as required by BikeDNA\n",
    "\n",
    "(move the final files to folders after folder structure is created)\n",
    "***"
   ]
  },
  {
   "cell_type": "code",
   "execution_count": 1,
   "metadata": {},
   "outputs": [],
   "source": [
    "# Load libraries\n",
    "import os\n",
    "import numpy as np\n",
    "import random\n",
    "random.seed(42)\n",
    "import pandas as pd\n",
    "os.environ['USE_PYGEOS'] = '0'\n",
    "import geopandas as gpd\n",
    "import shapely\n",
    "from shapely.geometry import Point, LineString\n",
    "from shapely import wkt\n",
    "from collections import Counter\n",
    "import matplotlib.pyplot as plt\n",
    "import osmnx as ox\n",
    "from qgis.core import *"
   ]
  },
  {
   "attachments": {},
   "cell_type": "markdown",
   "metadata": {},
   "source": [
    "**1. Load data**"
   ]
  },
  {
   "cell_type": "code",
   "execution_count": 2,
   "metadata": {},
   "outputs": [],
   "source": [
    "gdf = gpd.read_file(\"./RADWEGEOGD/RADWEGEOGDLine.shp\")"
   ]
  },
  {
   "attachments": {},
   "cell_type": "markdown",
   "metadata": {},
   "source": [
    "**2. Assert: one linestring geometry per row**"
   ]
  },
  {
   "cell_type": "code",
   "execution_count": 3,
   "metadata": {},
   "outputs": [],
   "source": [
    "gdf = gdf.explode(index_parts = False)\n",
    "assert all(gdf.geometry.type==\"LineString\")"
   ]
  },
  {
   "attachments": {},
   "cell_type": "markdown",
   "metadata": {},
   "source": [
    "**3. Explore data set features**"
   ]
  },
  {
   "cell_type": "code",
   "execution_count": 4,
   "metadata": {},
   "outputs": [
    {
     "data": {
      "text/html": [
       "<div>\n",
       "<style scoped>\n",
       "    .dataframe tbody tr th:only-of-type {\n",
       "        vertical-align: middle;\n",
       "    }\n",
       "\n",
       "    .dataframe tbody tr th {\n",
       "        vertical-align: top;\n",
       "    }\n",
       "\n",
       "    .dataframe thead th {\n",
       "        text-align: right;\n",
       "    }\n",
       "</style>\n",
       "<table border=\"1\" class=\"dataframe\">\n",
       "  <thead>\n",
       "    <tr style=\"text-align: right;\">\n",
       "      <th></th>\n",
       "      <th>MERKMAL</th>\n",
       "      <th>SUBMERKMAL</th>\n",
       "      <th>SE_SDO_ROW</th>\n",
       "      <th>geometry</th>\n",
       "    </tr>\n",
       "  </thead>\n",
       "  <tbody>\n",
       "    <tr>\n",
       "      <th>0</th>\n",
       "      <td>Getrennte Führung</td>\n",
       "      <td>Baulicher Radweg</td>\n",
       "      <td>51857719.0</td>\n",
       "      <td>LINESTRING (16.32641 48.18416, 16.32629 48.184...</td>\n",
       "    </tr>\n",
       "    <tr>\n",
       "      <th>1</th>\n",
       "      <td>Getrennte Führung</td>\n",
       "      <td>Getrennter Geh- und Radweg</td>\n",
       "      <td>51857720.0</td>\n",
       "      <td>LINESTRING (16.32746 48.18396, 16.32743 48.183...</td>\n",
       "    </tr>\n",
       "    <tr>\n",
       "      <th>2</th>\n",
       "      <td>Markierte Anlagen</td>\n",
       "      <td>Radfahren gegen die Einbahn</td>\n",
       "      <td>51857721.0</td>\n",
       "      <td>LINESTRING (16.36256 48.17032, 16.36255 48.170...</td>\n",
       "    </tr>\n",
       "  </tbody>\n",
       "</table>\n",
       "</div>"
      ],
      "text/plain": [
       "             MERKMAL                   SUBMERKMAL  SE_SDO_ROW   \n",
       "0  Getrennte Führung             Baulicher Radweg  51857719.0  \\\n",
       "1  Getrennte Führung   Getrennter Geh- und Radweg  51857720.0   \n",
       "2  Markierte Anlagen  Radfahren gegen die Einbahn  51857721.0   \n",
       "\n",
       "                                            geometry  \n",
       "0  LINESTRING (16.32641 48.18416, 16.32629 48.184...  \n",
       "1  LINESTRING (16.32746 48.18396, 16.32743 48.183...  \n",
       "2  LINESTRING (16.36256 48.17032, 16.36255 48.170...  "
      ]
     },
     "execution_count": 4,
     "metadata": {},
     "output_type": "execute_result"
    }
   ],
   "source": [
    "gdf.head(3)"
   ]
  },
  {
   "cell_type": "code",
   "execution_count": 5,
   "metadata": {},
   "outputs": [
    {
     "data": {
      "text/plain": [
       "Counter({'Getrennte Führung': 5108,\n",
       "         'Markierte Anlagen': 6335,\n",
       "         'Radroute': 1961,\n",
       "         'Radfahren im Wald': 81})"
      ]
     },
     "execution_count": 5,
     "metadata": {},
     "output_type": "execute_result"
    }
   ],
   "source": [
    "Counter(gdf.MERKMAL)"
   ]
  },
  {
   "cell_type": "code",
   "execution_count": 6,
   "metadata": {},
   "outputs": [
    {
     "data": {
      "text/plain": [
       "Counter({'Baulicher Radweg': 1645,\n",
       "         'Getrennter Geh- und Radweg': 570,\n",
       "         'Radfahren gegen die Einbahn': 3042,\n",
       "         'Radfahrerüberfahrt': 1887,\n",
       "         'Verkehrsberuhigter Bereich': 1550,\n",
       "         'Radroute': 1961,\n",
       "         'Gemischter Geh- und Radweg': 862,\n",
       "         'Mehrzweckstreifen': 996,\n",
       "         'Radfahrstreifen': 292,\n",
       "         'Radfahren auf Busspur': 118,\n",
       "         'Mountainbikestrecke': 81,\n",
       "         'Radfahren in Wohnstraße': 317,\n",
       "         'Radfahren in Fußgängerzone': 112,\n",
       "         'Fahrradstraße': 52})"
      ]
     },
     "execution_count": 6,
     "metadata": {},
     "output_type": "execute_result"
    }
   ],
   "source": [
    "Counter(gdf.SUBMERKMAL)"
   ]
  },
  {
   "cell_type": "code",
   "execution_count": 7,
   "metadata": {},
   "outputs": [
    {
     "data": {
      "text/plain": [
       "Counter({'Baulicher Radweg': 1645,\n",
       "         'Getrennter Geh- und Radweg': 570,\n",
       "         'Verkehrsberuhigter Bereich': 1550,\n",
       "         'Gemischter Geh- und Radweg': 862,\n",
       "         'Radfahren in Wohnstraße': 317,\n",
       "         'Radfahren in Fußgängerzone': 112,\n",
       "         'Fahrradstraße': 52})"
      ]
     },
     "execution_count": 7,
     "metadata": {},
     "output_type": "execute_result"
    }
   ],
   "source": [
    "Counter(gdf[gdf[\"MERKMAL\"]==\"Getrennte Führung\"][\"SUBMERKMAL\"])"
   ]
  },
  {
   "cell_type": "code",
   "execution_count": 8,
   "metadata": {},
   "outputs": [
    {
     "data": {
      "text/plain": [
       "Counter({'Radfahren gegen die Einbahn': 3042,\n",
       "         'Radfahrerüberfahrt': 1887,\n",
       "         'Mehrzweckstreifen': 996,\n",
       "         'Radfahrstreifen': 292,\n",
       "         'Radfahren auf Busspur': 118})"
      ]
     },
     "execution_count": 8,
     "metadata": {},
     "output_type": "execute_result"
    }
   ],
   "source": [
    "Counter(gdf[gdf[\"MERKMAL\"]==\"Markierte Anlagen\"][\"SUBMERKMAL\"])"
   ]
  },
  {
   "attachments": {},
   "cell_type": "markdown",
   "metadata": {},
   "source": [
    "**4. Drop not needed rows and columns**"
   ]
  },
  {
   "cell_type": "code",
   "execution_count": 9,
   "metadata": {},
   "outputs": [],
   "source": [
    "gdf = gdf.drop(columns = \"SE_SDO_ROW\")"
   ]
  },
  {
   "cell_type": "code",
   "execution_count": 10,
   "metadata": {},
   "outputs": [],
   "source": [
    "gdf = gdf.drop(gdf[gdf[\"MERKMAL\"]==\"Radroute\"].index, axis = 0).reset_index(drop=True)"
   ]
  },
  {
   "attachments": {},
   "cell_type": "markdown",
   "metadata": {},
   "source": [
    "**5. Check CRS and project into projected one**"
   ]
  },
  {
   "cell_type": "code",
   "execution_count": 11,
   "metadata": {},
   "outputs": [
    {
     "name": "stdout",
     "output_type": "stream",
     "text": [
      "GEOGCS[\"WGS 84\",DATUM[\"WGS_1984\",SPHEROID[\"WGS 84\",6378137,298.257223563,AUTHORITY[\"EPSG\",\"7030\"]],AUTHORITY[\"EPSG\",\"6326\"]],PRIMEM[\"Greenwich\",0,AUTHORITY[\"EPSG\",\"8901\"]],UNIT[\"degree\",0.0174532925199433],AXIS[\"Longitude\",EAST],AXIS[\"Latitude\",NORTH]]\n"
     ]
    }
   ],
   "source": [
    "print(gdf.crs)"
   ]
  },
  {
   "cell_type": "code",
   "execution_count": 12,
   "metadata": {},
   "outputs": [],
   "source": [
    "gdf = gdf.to_crs(\"EPSG:32633\")"
   ]
  },
  {
   "attachments": {},
   "cell_type": "markdown",
   "metadata": {},
   "source": [
    "***\n",
    "\n",
    "**6. In cofiguration file**\n",
    "\n",
    "> `study_crs: EPSG:32633`\n",
    "\n",
    "***\n",
    "\n",
    "#### In QGIS: \n",
    "\n",
    "**7. Check mapping type** \n",
    "\n",
    "To correctly fill out `reference_geometries` field of configuration file: check whether in the data set we have true geometries or centerline mapping (to later classify in Python and/or indicate in the configuration file); \n",
    "\n",
    "**8. Check bidirectionality**\n",
    "\n",
    "Check which parts of the infrastructure are bidirectional and which ones are not (to later classify in Python and/or indicate in the configuration file)\n",
    "\n",
    "**9. Check protection level**\n",
    "\n",
    "Check which parts of the infrastructure are protected and which ones are not (to later indicate in the configuration file)\n",
    "\n",
    "***"
   ]
  },
  {
   "attachments": {},
   "cell_type": "markdown",
   "metadata": {},
   "source": [
    "**10. Add mapping type information to config file**\n",
    "\n",
    "> reference_geometries: true_geometries\n",
    "\n",
    "**11. Add and fill `is_bidirectional` column**"
   ]
  },
  {
   "cell_type": "code",
   "execution_count": 13,
   "metadata": {},
   "outputs": [],
   "source": [
    "def classify_bidirection(mystring, oneways, twoways):\n",
    "    if mystring in twoways:\n",
    "        return True\n",
    "    elif mystring in oneways:\n",
    "        return False\n",
    "    else:\n",
    "        return None\n",
    "    \n",
    "myoneways = [\n",
    "    'Radfahren gegen die Einbahn',\n",
    "    'Radfahren auf Busspur',\n",
    "    'Mehrzweckstreifen',\n",
    "    'Radfahrstreifen',\n",
    "    'Baulicher Radweg'\n",
    "]\n",
    "\n",
    "mytwoways = [\n",
    "    'Mountainbikestrecke',\n",
    "    'Radfahrerüberfahrt',\n",
    "    'Radfahren in Wohnstraße',\n",
    "    'Fahrradstraße',\n",
    "    'Radfahren in Fußgängerzone',\n",
    "    'Gemischter Geh- und Radweg',\n",
    "    'Getrennter Geh- und Radweg',\n",
    "    'Verkehrsberuhigter Bereich'\n",
    "]\n",
    "\n",
    "gdf[\"is_bidirectional\"] = gdf.apply(\n",
    "    lambda x: classify_bidirection(\n",
    "        mystring = x.SUBMERKMAL, \n",
    "        oneways = myoneways, \n",
    "        twoways = mytwoways), \n",
    "    axis = 1)"
   ]
  },
  {
   "attachments": {},
   "cell_type": "markdown",
   "metadata": {},
   "source": [
    "> In config file: `bidirectional: is_bidirectional`"
   ]
  },
  {
   "attachments": {},
   "cell_type": "markdown",
   "metadata": {},
   "source": [
    "**12. Classify in protected/unprotected by name and value of columns:**"
   ]
  },
  {
   "cell_type": "code",
   "execution_count": 14,
   "metadata": {},
   "outputs": [
    {
     "data": {
      "text/plain": [
       "Counter({'Getrennte Führung': 5108,\n",
       "         'Markierte Anlagen': 6335,\n",
       "         'Radfahren im Wald': 81})"
      ]
     },
     "execution_count": 14,
     "metadata": {},
     "output_type": "execute_result"
    }
   ],
   "source": [
    "Counter(gdf.MERKMAL)"
   ]
  },
  {
   "cell_type": "code",
   "execution_count": 15,
   "metadata": {},
   "outputs": [],
   "source": [
    "gdf[\"protection\"] = \"unknown\"\n",
    "gdf.loc[gdf[\"MERKMAL\"]==\"Getrennte Führung\", \"protection\"] = \"protected\"\n",
    "gdf.loc[gdf[\"MERKMAL\"]==\"Radfahren im Wald\", \"protection\"] = \"protected\"\n",
    "gdf.loc[gdf[\"MERKMAL\"]==\"Markierte Anlagen\", \"protection\"] = \"unprotected\""
   ]
  },
  {
   "cell_type": "code",
   "execution_count": 16,
   "metadata": {},
   "outputs": [
    {
     "data": {
      "text/plain": [
       "Counter({'protected': 5189, 'unprotected': 6335})"
      ]
     },
     "execution_count": 16,
     "metadata": {},
     "output_type": "execute_result"
    }
   ],
   "source": [
    "Counter(gdf.protection)"
   ]
  },
  {
   "attachments": {},
   "cell_type": "markdown",
   "metadata": {},
   "source": [
    "**In config file:**\n",
    "\n",
    "> ```ref_bicycle_infrastructure_type:\n",
    ">\n",
    ">   protected:\n",
    ">    - \"protection ==  'protected'\"\n",
    ">\n",
    ">   unprotected:\n",
    ">    - \"protection == 'unprotected'\"\n",
    "\n",
    "**13. Save temporary file for QGIS processing**"
   ]
  },
  {
   "cell_type": "code",
   "execution_count": 17,
   "metadata": {},
   "outputs": [],
   "source": [
    "gdf.to_file(\"qgis_input.gpkg\", index = False)"
   ]
  },
  {
   "attachments": {},
   "cell_type": "markdown",
   "metadata": {},
   "source": [
    "***\n",
    "\n",
    "#### In QGIS: \n",
    "\n",
    "Run the *split with lines* processing algorithm and save the output file, by navigating to the Python console within QGIS (in a project saved in the same folder as the `qgis_input.gpkg` data) and then running the script `splitwithlines.py`, which takes care of the following 2 points:\n",
    "\n",
    "13. Make sure that each linestring endpoint represents an intersection by running the `split with lines` native QGIS processing tool on the dataset of linestrings\n",
    "14. Export (save) the split dataset \n",
    "\n",
    "***"
   ]
  },
  {
   "cell_type": "code",
   "execution_count": 18,
   "metadata": {},
   "outputs": [
    {
     "name": "stderr",
     "output_type": "stream",
     "text": [
      "qt.qpa.fonts: Populating font family aliases took 131 ms. Replace uses of missing font family \"Open Sans\" with one that exists to avoid this cost. \n"
     ]
    }
   ],
   "source": [
    "myprefix = '/Applications/QGIS-LTR.app/Contents/MacOS' # location of QGIS on your PC\n",
    "myinput =  \"qgis_input.gpkg\" # input file\n",
    "myoutput = \"qgis_output.gpkg\" # output file\n",
    "\n",
    "# Supply path to qgis install location\n",
    "QgsApplication.setPrefixPath(\n",
    "    myprefix, \n",
    "    False # use default paths\n",
    "    )\n",
    "\n",
    "# Create a reference to the QgsApplication. \n",
    "qgs = QgsApplication(\n",
    "    [], \n",
    "    False # do *not* use GUI\n",
    "    )\n",
    "\n",
    "# Load providers\n",
    "qgs.initQgis()\n",
    "\n",
    "# initialize Processing\n",
    "import processing \n",
    "from processing.core.Processing import Processing\n",
    "Processing.initialize()\n",
    "\n",
    "# Run processing algorithm \"split with lines\"\n",
    "temp_out_split = processing.run(\n",
    "\"native:splitwithlines\",\n",
    "    {\n",
    "        'INPUT':myinput,\n",
    "        'LINES':myinput,\n",
    "        'OUTPUT':'TEMPORARY_OUTPUT'\n",
    "    }\n",
    ")\n",
    "\n",
    "# delete \"FID\" column\n",
    "mylayer = temp_out_split[\"OUTPUT\"]\n",
    "mylayer.dataProvider().deleteAttributes([0])\n",
    "mylayer.updateFields()\n",
    "\n",
    "# Check validity and only keep valid layer\n",
    "temp_out_valid = processing.run(\n",
    "    \"qgis:checkvalidity\",\n",
    "        {\n",
    "            'INPUT_LAYER': mylayer,\n",
    "            'METHOD': 2,\n",
    "            'IGNORE_RING_SELF_INTERSECTION': False,\n",
    "            'VALID_OUTPUT': myoutput,\n",
    "            'INVALID_OUTPUT':None,\n",
    "            'ERROR_OUTPUT':None\n",
    "        }\n",
    "    )"
   ]
  },
  {
   "attachments": {},
   "cell_type": "markdown",
   "metadata": {},
   "source": [
    "**In Python**\n",
    "\n",
    "15. Load the split dataset\n",
    "16. Add unique ID column to geodataframe \n",
    "17. Save final gdf as required by BikeDNA\n",
    "17. Derive the \"study area polygon\" from the final dataset and save it as required by BikeDNA"
   ]
  },
  {
   "attachments": {},
   "cell_type": "markdown",
   "metadata": {},
   "source": [
    "**15. Load the output data set**"
   ]
  },
  {
   "cell_type": "code",
   "execution_count": 19,
   "metadata": {},
   "outputs": [],
   "source": [
    "split = gpd.read_file(\"qgis_output.gpkg\")\n",
    "split = split.explode(index_parts = False)"
   ]
  },
  {
   "attachments": {},
   "cell_type": "markdown",
   "metadata": {},
   "source": [
    "**16. Add unique ID column**"
   ]
  },
  {
   "cell_type": "code",
   "execution_count": 20,
   "metadata": {},
   "outputs": [],
   "source": [
    "split[\"myid\"] = split.index"
   ]
  },
  {
   "cell_type": "code",
   "execution_count": 21,
   "metadata": {},
   "outputs": [
    {
     "data": {
      "text/html": [
       "<div>\n",
       "<style scoped>\n",
       "    .dataframe tbody tr th:only-of-type {\n",
       "        vertical-align: middle;\n",
       "    }\n",
       "\n",
       "    .dataframe tbody tr th {\n",
       "        vertical-align: top;\n",
       "    }\n",
       "\n",
       "    .dataframe thead th {\n",
       "        text-align: right;\n",
       "    }\n",
       "</style>\n",
       "<table border=\"1\" class=\"dataframe\">\n",
       "  <thead>\n",
       "    <tr style=\"text-align: right;\">\n",
       "      <th></th>\n",
       "      <th>MERKMAL</th>\n",
       "      <th>SUBMERKMAL</th>\n",
       "      <th>is_bidirectional</th>\n",
       "      <th>protection</th>\n",
       "      <th>geometry</th>\n",
       "      <th>myid</th>\n",
       "    </tr>\n",
       "  </thead>\n",
       "  <tbody>\n",
       "    <tr>\n",
       "      <th>0</th>\n",
       "      <td>Getrennte Führung</td>\n",
       "      <td>Baulicher Radweg</td>\n",
       "      <td>False</td>\n",
       "      <td>protected</td>\n",
       "      <td>LINESTRING (598590.768 5337619.820, 598581.922...</td>\n",
       "      <td>0</td>\n",
       "    </tr>\n",
       "    <tr>\n",
       "      <th>1</th>\n",
       "      <td>Getrennte Führung</td>\n",
       "      <td>Getrennter Geh- und Radweg</td>\n",
       "      <td>True</td>\n",
       "      <td>protected</td>\n",
       "      <td>LINESTRING (598669.017 5337598.753, 598667.053...</td>\n",
       "      <td>1</td>\n",
       "    </tr>\n",
       "    <tr>\n",
       "      <th>2</th>\n",
       "      <td>Markierte Anlagen</td>\n",
       "      <td>Radfahren gegen die Einbahn</td>\n",
       "      <td>False</td>\n",
       "      <td>unprotected</td>\n",
       "      <td>LINESTRING (601304.580 5336128.559, 601304.017...</td>\n",
       "      <td>2</td>\n",
       "    </tr>\n",
       "  </tbody>\n",
       "</table>\n",
       "</div>"
      ],
      "text/plain": [
       "             MERKMAL                   SUBMERKMAL  is_bidirectional   \n",
       "0  Getrennte Führung             Baulicher Radweg             False  \\\n",
       "1  Getrennte Führung   Getrennter Geh- und Radweg              True   \n",
       "2  Markierte Anlagen  Radfahren gegen die Einbahn             False   \n",
       "\n",
       "    protection                                           geometry  myid  \n",
       "0    protected  LINESTRING (598590.768 5337619.820, 598581.922...     0  \n",
       "1    protected  LINESTRING (598669.017 5337598.753, 598667.053...     1  \n",
       "2  unprotected  LINESTRING (601304.580 5336128.559, 601304.017...     2  "
      ]
     },
     "execution_count": 21,
     "metadata": {},
     "output_type": "execute_result"
    }
   ],
   "source": [
    "split.head(3)"
   ]
  },
  {
   "attachments": {},
   "cell_type": "markdown",
   "metadata": {},
   "source": [
    "> in config file: `reference_id_col: myid`"
   ]
  },
  {
   "attachments": {},
   "cell_type": "markdown",
   "metadata": {},
   "source": [
    "**17. Save final gdf as required by BikeDNA**"
   ]
  },
  {
   "cell_type": "code",
   "execution_count": 22,
   "metadata": {},
   "outputs": [],
   "source": [
    "split.to_file(\"../data/REFERENCE/Vienna/raw/reference_data.gpkg\", index = False)"
   ]
  },
  {
   "attachments": {},
   "cell_type": "markdown",
   "metadata": {},
   "source": [
    "* have all geometries as LineStrings (not MultiLineStrings)\n",
    "* have all intersections represented as LineString endpoints (?)\n"
   ]
  },
  {
   "attachments": {},
   "cell_type": "markdown",
   "metadata": {},
   "source": [
    "**18. Derive study area polygon and save it as required**\n",
    "/data/study_area_polygon/'my_study_area'/study_area_polygon.gpkg"
   ]
  },
  {
   "cell_type": "code",
   "execution_count": 23,
   "metadata": {},
   "outputs": [],
   "source": [
    "my_study_area = ox.geocode_to_gdf(\"Vienna, Austria\").to_crs(\"EPSG:32633\")\n",
    "my_study_area.to_file(\"../data/study_area_polygon/Vienna/study_area_polygon.gpkg\", index = False)"
   ]
  }
 ],
 "metadata": {
  "kernelspec": {
   "display_name": "OSMNX",
   "language": "python",
   "name": "python3"
  },
  "language_info": {
   "codemirror_mode": {
    "name": "ipython",
    "version": 3
   },
   "file_extension": ".py",
   "mimetype": "text/x-python",
   "name": "python",
   "nbconvert_exporter": "python",
   "pygments_lexer": "ipython3",
   "version": "3.9.15"
  },
  "orig_nbformat": 4
 },
 "nbformat": 4,
 "nbformat_minor": 2
}
