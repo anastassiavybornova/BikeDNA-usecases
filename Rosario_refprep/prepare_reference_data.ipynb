{
 "cells": [
  {
   "attachments": {},
   "cell_type": "markdown",
   "metadata": {},
   "source": [
    "### Preparation of reference data (Rosario)\n",
    "\n",
    "Data downloaded from [Open Data published by Municipality of Rosario](https://datosabiertos.rosario.gob.ar/dataset/ciclovías-y-bicisendas) "
   ]
  },
  {
   "attachments": {},
   "cell_type": "markdown",
   "metadata": {},
   "source": [
    "#### Run code below with different kernel/env (`qgis` needed),\n",
    "\n",
    "**after**\n",
    "\n",
    "1. filling out config file\n",
    "2. running `python setup_folders.py` in terminal "
   ]
  },
  {
   "cell_type": "code",
   "execution_count": 1,
   "metadata": {},
   "outputs": [],
   "source": [
    "# import libraries\n",
    "import os\n",
    "os.environ[\"USE_PYGEOS\"] = \"0\"\n",
    "import geopandas as gpd\n",
    "from qgis.core import *\n",
    "import matplotlib.pyplot as plt\n",
    "import contextily as cx\n",
    "from collections import Counter\n",
    "import osmnx as ox\n",
    "import re"
   ]
  },
  {
   "attachments": {},
   "cell_type": "markdown",
   "metadata": {},
   "source": [
    "**Define projected CRS for study area**"
   ]
  },
  {
   "cell_type": "code",
   "execution_count": 2,
   "metadata": {},
   "outputs": [],
   "source": [
    "proj_crs = \"EPSG:22171\""
   ]
  },
  {
   "attachments": {},
   "cell_type": "markdown",
   "metadata": {},
   "source": [
    "**Show bounding polygon**"
   ]
  },
  {
   "cell_type": "code",
   "execution_count": 3,
   "metadata": {},
   "outputs": [
    {
     "data": {
      "image/png": "[encoded data removed]",
      "text/plain": [
       "<Figure size 640x480 with 1 Axes>"
      ]
     },
     "metadata": {},
     "output_type": "display_data"
    }
   ],
   "source": [
    "fig, ax = plt.subplots(1,1)\n",
    "rosario_poly = ox.geocode_to_gdf(\"Rosario, Argentina\")\n",
    "rosario_poly = rosario_poly.to_crs(proj_crs)\n",
    "rosario_poly.plot(ax=ax, color = \"grey\", alpha = 0.5)\n",
    "ax.set_axis_off()\n"
   ]
  },
  {
   "attachments": {},
   "cell_type": "markdown",
   "metadata": {},
   "source": [
    "**Save as study area polygon**"
   ]
  },
  {
   "cell_type": "code",
   "execution_count": 4,
   "metadata": {},
   "outputs": [],
   "source": [
    "rosario_poly.to_file(\"../data/study_area_polygon/study_area_polygon.gpkg\", index = False)"
   ]
  },
  {
   "attachments": {},
   "cell_type": "markdown",
   "metadata": {},
   "source": [
    "**Get reference data**"
   ]
  },
  {
   "cell_type": "code",
   "execution_count": 5,
   "metadata": {},
   "outputs": [],
   "source": [
    "gdf = gpd.read_file(\"ciclovias_y_bicisendas.gml\")"
   ]
  },
  {
   "cell_type": "code",
   "execution_count": 6,
   "metadata": {},
   "outputs": [],
   "source": [
    "# convert to projected CRS\n",
    "assert gdf.crs is not None\n",
    "gdf = gdf.to_crs(proj_crs)"
   ]
  },
  {
   "cell_type": "code",
   "execution_count": 7,
   "metadata": {},
   "outputs": [
    {
     "data": {
      "text/html": [
       "<div>\n",
       "<style scoped>\n",
       "    .dataframe tbody tr th:only-of-type {\n",
       "        vertical-align: middle;\n",
       "    }\n",
       "\n",
       "    .dataframe tbody tr th {\n",
       "        vertical-align: top;\n",
       "    }\n",
       "\n",
       "    .dataframe thead th {\n",
       "        text-align: right;\n",
       "    }\n",
       "</style>\n",
       "<table border=\"1\" class=\"dataframe\">\n",
       "  <thead>\n",
       "    <tr style=\"text-align: right;\">\n",
       "      <th></th>\n",
       "      <th>gml_id</th>\n",
       "      <th>SE_ROW_ID</th>\n",
       "      <th>GML_ID</th>\n",
       "      <th>MSLINK</th>\n",
       "      <th>NOMBRE</th>\n",
       "      <th>CODCALLE</th>\n",
       "      <th>BIS</th>\n",
       "      <th>NUMERACION</th>\n",
       "      <th>CATEGORIA</th>\n",
       "      <th>N_PAVI</th>\n",
       "      <th>CLASE</th>\n",
       "      <th>ANIO_CONST</th>\n",
       "      <th>USO</th>\n",
       "      <th>ESTADO_SH</th>\n",
       "      <th>ESTADO_INF</th>\n",
       "      <th>RAMPAS</th>\n",
       "      <th>USABILIDAD</th>\n",
       "      <th>LONGITUD</th>\n",
       "      <th>geometry</th>\n",
       "    </tr>\n",
       "  </thead>\n",
       "  <tbody>\n",
       "    <tr>\n",
       "      <th>0</th>\n",
       "      <td>ciclovias_y_bicisendas.2</td>\n",
       "      <td>2</td>\n",
       "      <td>ciclovias_y_bicisendas.4                      ...</td>\n",
       "      <td>19099</td>\n",
       "      <td>PTE. PERON</td>\n",
       "      <td>53950</td>\n",
       "      <td>0</td>\n",
       "      <td>4100</td>\n",
       "      <td>Avenida</td>\n",
       "      <td>ASFALTO S/GRANITO</td>\n",
       "      <td>BICISENDA                                     ...</td>\n",
       "      <td>999</td>\n",
       "      <td>ALTO</td>\n",
       "      <td>MALO</td>\n",
       "      <td>REGULAR</td>\n",
       "      <td>NO</td>\n",
       "      <td>BUENA</td>\n",
       "      <td>45</td>\n",
       "      <td>LINESTRING (2560751.665 6296463.182, 2560713.0...</td>\n",
       "    </tr>\n",
       "    <tr>\n",
       "      <th>1</th>\n",
       "      <td>ciclovias_y_bicisendas.3</td>\n",
       "      <td>3</td>\n",
       "      <td>ciclovias_y_bicisendas.5                      ...</td>\n",
       "      <td>19100</td>\n",
       "      <td>PTE. PERON</td>\n",
       "      <td>53950</td>\n",
       "      <td>0</td>\n",
       "      <td>3900</td>\n",
       "      <td>Avenida</td>\n",
       "      <td>ASFALTO S/GRANITO</td>\n",
       "      <td>BICISENDA                                     ...</td>\n",
       "      <td>999</td>\n",
       "      <td>ALTO</td>\n",
       "      <td>MALO</td>\n",
       "      <td>REGULAR</td>\n",
       "      <td>NO</td>\n",
       "      <td>BUENA</td>\n",
       "      <td>38</td>\n",
       "      <td>LINESTRING (2561136.418 6296486.665, 2561104.2...</td>\n",
       "    </tr>\n",
       "    <tr>\n",
       "      <th>2</th>\n",
       "      <td>ciclovias_y_bicisendas.4</td>\n",
       "      <td>4</td>\n",
       "      <td>ciclovias_y_bicisendas.6                      ...</td>\n",
       "      <td>19101</td>\n",
       "      <td>PTE. PERON</td>\n",
       "      <td>53950</td>\n",
       "      <td>0</td>\n",
       "      <td>3900</td>\n",
       "      <td>Avenida</td>\n",
       "      <td>ASFALTO S/GRANITO</td>\n",
       "      <td>BICISENDA                                     ...</td>\n",
       "      <td>999</td>\n",
       "      <td>ALTO</td>\n",
       "      <td>MALO</td>\n",
       "      <td>REGULAR</td>\n",
       "      <td>NO</td>\n",
       "      <td>BUENA</td>\n",
       "      <td>8</td>\n",
       "      <td>LINESTRING (2561139.250 6296474.140, 2561132.1...</td>\n",
       "    </tr>\n",
       "  </tbody>\n",
       "</table>\n",
       "</div>"
      ],
      "text/plain": [
       "                     gml_id  SE_ROW_ID   \n",
       "0  ciclovias_y_bicisendas.2          2  \\\n",
       "1  ciclovias_y_bicisendas.3          3   \n",
       "2  ciclovias_y_bicisendas.4          4   \n",
       "\n",
       "                                              GML_ID  MSLINK   \n",
       "0  ciclovias_y_bicisendas.4                      ...   19099  \\\n",
       "1  ciclovias_y_bicisendas.5                      ...   19100   \n",
       "2  ciclovias_y_bicisendas.6                      ...   19101   \n",
       "\n",
       "                    NOMBRE  CODCALLE  BIS  NUMERACION  CATEGORIA   \n",
       "0  PTE. PERON                  53950    0  4100        Avenida    \\\n",
       "1  PTE. PERON                  53950    0  3900        Avenida     \n",
       "2  PTE. PERON                  53950    0  3900        Avenida     \n",
       "\n",
       "              N_PAVI                                              CLASE   \n",
       "0  ASFALTO S/GRANITO  BICISENDA                                     ...  \\\n",
       "1  ASFALTO S/GRANITO  BICISENDA                                     ...   \n",
       "2  ASFALTO S/GRANITO  BICISENDA                                     ...   \n",
       "\n",
       "   ANIO_CONST                   USO             ESTADO_SH   \n",
       "0         999  ALTO                  MALO                  \\\n",
       "1         999  ALTO                  MALO                   \n",
       "2         999  ALTO                  MALO                   \n",
       "\n",
       "             ESTADO_INF                RAMPAS            USABILIDAD  LONGITUD   \n",
       "0  REGULAR               NO                    BUENA                       45  \\\n",
       "1  REGULAR               NO                    BUENA                       38   \n",
       "2  REGULAR               NO                    BUENA                        8   \n",
       "\n",
       "                                            geometry  \n",
       "0  LINESTRING (2560751.665 6296463.182, 2560713.0...  \n",
       "1  LINESTRING (2561136.418 6296486.665, 2561104.2...  \n",
       "2  LINESTRING (2561139.250 6296474.140, 2561132.1...  "
      ]
     },
     "execution_count": 7,
     "metadata": {},
     "output_type": "execute_result"
    }
   ],
   "source": [
    "gdf.head(3)"
   ]
  },
  {
   "cell_type": "code",
   "execution_count": 8,
   "metadata": {},
   "outputs": [
    {
     "data": {
      "image/png": "[encoded data removed]",
      "text/plain": [
       "<Figure size 640x480 with 1 Axes>"
      ]
     },
     "metadata": {},
     "output_type": "display_data"
    }
   ],
   "source": [
    "# visualize what we have imported\n",
    "fig, ax = plt.subplots(1,1)\n",
    "rosario_poly.plot(ax=ax, color = \"grey\", alpha = 0.2)\n",
    "gdf.plot(ax=ax, column = \"CLASE\")\n",
    "ax.set_axis_off()"
   ]
  },
  {
   "attachments": {},
   "cell_type": "markdown",
   "metadata": {},
   "source": [
    "**Delete not needed columns**"
   ]
  },
  {
   "cell_type": "code",
   "execution_count": 9,
   "metadata": {},
   "outputs": [],
   "source": [
    "gdf.drop(columns = ['gml_id', 'SE_ROW_ID', 'GML_ID', 'MSLINK'], inplace = True)"
   ]
  },
  {
   "attachments": {},
   "cell_type": "markdown",
   "metadata": {},
   "source": [
    "**Make sure that all geometries are LineStrings**"
   ]
  },
  {
   "cell_type": "code",
   "execution_count": 10,
   "metadata": {},
   "outputs": [],
   "source": [
    "gdf = gdf.explode(index_parts = False).reset_index(drop=True)"
   ]
  },
  {
   "cell_type": "code",
   "execution_count": 11,
   "metadata": {},
   "outputs": [],
   "source": [
    "assert all(gdf.geometry.geom_type == \"LineString\")"
   ]
  },
  {
   "attachments": {},
   "cell_type": "markdown",
   "metadata": {},
   "source": [
    "**Format \"CLASE\" column**\n",
    "(remove white spaces)"
   ]
  },
  {
   "cell_type": "code",
   "execution_count": 12,
   "metadata": {},
   "outputs": [],
   "source": [
    "gdf.CLASE = gdf.apply(lambda x: x.CLASE.replace(\" \", \"\"), axis = 1) "
   ]
  },
  {
   "cell_type": "code",
   "execution_count": 13,
   "metadata": {},
   "outputs": [
    {
     "data": {
      "text/plain": [
       "Counter({'BICISENDA': 407,\n",
       "         'CICLOVIA': 608,\n",
       "         'CICLOVIADOBLEMANO': 8,\n",
       "         'CALLECOMPARTIDA': 23})"
      ]
     },
     "execution_count": 13,
     "metadata": {},
     "output_type": "execute_result"
    }
   ],
   "source": [
    "Counter(gdf.CLASE)"
   ]
  },
  {
   "attachments": {},
   "cell_type": "markdown",
   "metadata": {},
   "source": [
    "**Add column describing geometry type**\n",
    "\n",
    "Centerline or true geometry? Since *all* the features are true geometries, we don't need a separate column - we just add `reference_geometries: true_geometries` in the config.yml file"
   ]
  },
  {
   "attachments": {},
   "cell_type": "markdown",
   "metadata": {},
   "source": [
    "**Add column describing type of bicycle infrastructure (protected/unprotected)**\n",
    "\n",
    "* Bicisendas, calle compartida: unprotected\n",
    "* Ciclovias, ciclovias doble mano: protected"
   ]
  },
  {
   "cell_type": "code",
   "execution_count": 14,
   "metadata": {},
   "outputs": [],
   "source": [
    "# initiate column\n",
    "gdf[\"protection\"] = \"unknown\"\n",
    "# classify\n",
    "gdf.loc[gdf[\"CLASE\"]==\"CICLOVIA\", \"protection\"] = \"protected\"\n",
    "gdf.loc[gdf[\"CLASE\"]==\"CICLOVIADOBLEMANO\", \"protection\"] = \"protected\"\n",
    "gdf.loc[gdf[\"CLASE\"]==\"BICISENDA\", \"protection\"] = \"unprotected\"\n",
    "gdf.loc[gdf[\"CLASE\"]==\"CALLECOMPARTIDA\", \"protection\"] = \"unprotected\"\n"
   ]
  },
  {
   "cell_type": "code",
   "execution_count": 15,
   "metadata": {},
   "outputs": [
    {
     "data": {
      "text/plain": [
       "Counter({'unprotected': 430, 'protected': 616})"
      ]
     },
     "execution_count": 15,
     "metadata": {},
     "output_type": "execute_result"
    }
   ],
   "source": [
    "Counter(gdf.protection)"
   ]
  },
  {
   "attachments": {},
   "cell_type": "markdown",
   "metadata": {},
   "source": [
    "**Add column describing whether features are bidirectional**"
   ]
  },
  {
   "cell_type": "code",
   "execution_count": 16,
   "metadata": {},
   "outputs": [],
   "source": [
    "# the only bidirectional one is \"cicloviadoblemano\"\n",
    "gdf[\"is_bidirectional\"] = False\n",
    "gdf.loc[gdf[\"CLASE\"]==\"CICLOVIADOBLEMANO\", \"is_bidirectional\"] = True"
   ]
  },
  {
   "cell_type": "code",
   "execution_count": 17,
   "metadata": {},
   "outputs": [
    {
     "data": {
      "text/plain": [
       "Counter({False: 1038, True: 8})"
      ]
     },
     "execution_count": 17,
     "metadata": {},
     "output_type": "execute_result"
    }
   ],
   "source": [
    "Counter(gdf.is_bidirectional)"
   ]
  },
  {
   "attachments": {},
   "cell_type": "markdown",
   "metadata": {},
   "source": [
    "### NOTE: THIS IS LIKELY FALSE >> BUT THERE IS NOT ENOUGH INFO ABOUT DOBLE SENTIDO IN THE DATA\n",
    "might need to fill this out manually for a more correct analysis (as of now, the length of cycling infrastructure is underestimated!)"
   ]
  },
  {
   "attachments": {},
   "cell_type": "markdown",
   "metadata": {},
   "source": [
    "**Save file for qgis input**"
   ]
  },
  {
   "cell_type": "code",
   "execution_count": 18,
   "metadata": {},
   "outputs": [],
   "source": [
    "gdf.to_file(\"refprep_qgis_input.gpkg\", index = False)\n",
    "del(gdf)"
   ]
  },
  {
   "attachments": {},
   "cell_type": "markdown",
   "metadata": {},
   "source": [
    "**Make sure LineStrings end at intersections**\n",
    "(with PyQGIS)"
   ]
  },
  {
   "cell_type": "code",
   "execution_count": 19,
   "metadata": {},
   "outputs": [],
   "source": [
    "myprefix = '/Applications/QGIS-LTR.app/Contents/MacOS' # location of QGIS on your PC\n",
    "myinput =  \"refprep_qgis_input.gpkg\" # input file\n",
    "myoutput = \"refprep_qgis_output.gpkg\" # output file"
   ]
  },
  {
   "cell_type": "code",
   "execution_count": 20,
   "metadata": {},
   "outputs": [
    {
     "name": "stderr",
     "output_type": "stream",
     "text": [
      "qt.qpa.fonts: Populating font family aliases took 136 ms. Replace uses of missing font family \"Open Sans\" with one that exists to avoid this cost. \n"
     ]
    }
   ],
   "source": [
    "# Supply path to qgis install location\n",
    "QgsApplication.setPrefixPath(\n",
    "    myprefix, \n",
    "    False # use default paths\n",
    "    )\n",
    "\n",
    "# Create a reference to the QgsApplication. \n",
    "qgs = QgsApplication(\n",
    "    [], \n",
    "    False # do *not* use GUI\n",
    "    )\n",
    "\n",
    "# Load providers\n",
    "qgs.initQgis()"
   ]
  },
  {
   "cell_type": "code",
   "execution_count": 21,
   "metadata": {},
   "outputs": [],
   "source": [
    "# initialize Processing\n",
    "import processing \n",
    "from processing.core.Processing import Processing\n",
    "Processing.initialize()"
   ]
  },
  {
   "cell_type": "code",
   "execution_count": 22,
   "metadata": {},
   "outputs": [],
   "source": [
    "# Run processing algorithm \"split with lines\"\n",
    "temp_out_split = processing.run(\n",
    "\"native:splitwithlines\",\n",
    "    {\n",
    "        'INPUT':myinput,\n",
    "        'LINES':myinput,\n",
    "        'OUTPUT':'TEMPORARY_OUTPUT'\n",
    "    }\n",
    ")"
   ]
  },
  {
   "cell_type": "code",
   "execution_count": 23,
   "metadata": {},
   "outputs": [],
   "source": [
    "# delete \"FID\" column\n",
    "mylayer = temp_out_split[\"OUTPUT\"]\n",
    "mylayer.dataProvider().deleteAttributes([0])\n",
    "mylayer.updateFields()"
   ]
  },
  {
   "cell_type": "code",
   "execution_count": 24,
   "metadata": {},
   "outputs": [],
   "source": [
    "# Check validity and only keep valid layer\n",
    "temp_out_valid = processing.run(\n",
    "    \"qgis:checkvalidity\",\n",
    "        {\n",
    "            'INPUT_LAYER': mylayer,\n",
    "            'METHOD': 2,\n",
    "            'IGNORE_RING_SELF_INTERSECTION': False,\n",
    "            'VALID_OUTPUT': myoutput,\n",
    "            'INVALID_OUTPUT':None,\n",
    "            'ERROR_OUTPUT':None\n",
    "        }\n",
    "    )"
   ]
  },
  {
   "attachments": {},
   "cell_type": "markdown",
   "metadata": {},
   "source": [
    "Read back in the qgis-processed file"
   ]
  },
  {
   "cell_type": "code",
   "execution_count": 25,
   "metadata": {},
   "outputs": [],
   "source": [
    "final_gdf = gpd.read_file(myoutput)"
   ]
  },
  {
   "cell_type": "code",
   "execution_count": 26,
   "metadata": {},
   "outputs": [],
   "source": [
    "final_gdf = final_gdf.explode(index_parts = False)\n",
    "assert (all(final_gdf.geometry.geom_type == \"LineString\"))"
   ]
  },
  {
   "attachments": {},
   "cell_type": "markdown",
   "metadata": {},
   "source": [
    "**Make sure that every feature has a unique ID**"
   ]
  },
  {
   "cell_type": "code",
   "execution_count": 27,
   "metadata": {},
   "outputs": [],
   "source": [
    "final_gdf[\"unique_id\"] = final_gdf.index"
   ]
  },
  {
   "cell_type": "code",
   "execution_count": 28,
   "metadata": {},
   "outputs": [
    {
     "data": {
      "text/html": [
       "<div>\n",
       "<style scoped>\n",
       "    .dataframe tbody tr th:only-of-type {\n",
       "        vertical-align: middle;\n",
       "    }\n",
       "\n",
       "    .dataframe tbody tr th {\n",
       "        vertical-align: top;\n",
       "    }\n",
       "\n",
       "    .dataframe thead th {\n",
       "        text-align: right;\n",
       "    }\n",
       "</style>\n",
       "<table border=\"1\" class=\"dataframe\">\n",
       "  <thead>\n",
       "    <tr style=\"text-align: right;\">\n",
       "      <th></th>\n",
       "      <th>NOMBRE</th>\n",
       "      <th>CODCALLE</th>\n",
       "      <th>BIS</th>\n",
       "      <th>NUMERACION</th>\n",
       "      <th>CATEGORIA</th>\n",
       "      <th>N_PAVI</th>\n",
       "      <th>CLASE</th>\n",
       "      <th>ANIO_CONST</th>\n",
       "      <th>USO</th>\n",
       "      <th>ESTADO_SH</th>\n",
       "      <th>ESTADO_INF</th>\n",
       "      <th>RAMPAS</th>\n",
       "      <th>USABILIDAD</th>\n",
       "      <th>LONGITUD</th>\n",
       "      <th>protection</th>\n",
       "      <th>is_bidirectional</th>\n",
       "      <th>geometry</th>\n",
       "      <th>unique_id</th>\n",
       "    </tr>\n",
       "  </thead>\n",
       "  <tbody>\n",
       "    <tr>\n",
       "      <th>0</th>\n",
       "      <td>PTE. PERON</td>\n",
       "      <td>53950</td>\n",
       "      <td>0</td>\n",
       "      <td>4100</td>\n",
       "      <td>Avenida</td>\n",
       "      <td>ASFALTO S/GRANITO</td>\n",
       "      <td>BICISENDA</td>\n",
       "      <td>999</td>\n",
       "      <td>ALTO</td>\n",
       "      <td>MALO</td>\n",
       "      <td>REGULAR</td>\n",
       "      <td>NO</td>\n",
       "      <td>BUENA</td>\n",
       "      <td>45</td>\n",
       "      <td>unprotected</td>\n",
       "      <td>False</td>\n",
       "      <td>LINESTRING (2560751.665 6296463.182, 2560713.0...</td>\n",
       "      <td>0</td>\n",
       "    </tr>\n",
       "    <tr>\n",
       "      <th>1</th>\n",
       "      <td>PTE. PERON</td>\n",
       "      <td>53950</td>\n",
       "      <td>0</td>\n",
       "      <td>3900</td>\n",
       "      <td>Avenida</td>\n",
       "      <td>ASFALTO S/GRANITO</td>\n",
       "      <td>BICISENDA</td>\n",
       "      <td>999</td>\n",
       "      <td>ALTO</td>\n",
       "      <td>MALO</td>\n",
       "      <td>REGULAR</td>\n",
       "      <td>NO</td>\n",
       "      <td>BUENA</td>\n",
       "      <td>38</td>\n",
       "      <td>unprotected</td>\n",
       "      <td>False</td>\n",
       "      <td>LINESTRING (2561136.418 6296486.665, 2561104.2...</td>\n",
       "      <td>1</td>\n",
       "    </tr>\n",
       "    <tr>\n",
       "      <th>2</th>\n",
       "      <td>PTE. PERON</td>\n",
       "      <td>53950</td>\n",
       "      <td>0</td>\n",
       "      <td>3900</td>\n",
       "      <td>Avenida</td>\n",
       "      <td>ASFALTO S/GRANITO</td>\n",
       "      <td>BICISENDA</td>\n",
       "      <td>999</td>\n",
       "      <td>ALTO</td>\n",
       "      <td>MALO</td>\n",
       "      <td>REGULAR</td>\n",
       "      <td>NO</td>\n",
       "      <td>BUENA</td>\n",
       "      <td>8</td>\n",
       "      <td>unprotected</td>\n",
       "      <td>False</td>\n",
       "      <td>LINESTRING (2561139.250 6296474.140, 2561132.1...</td>\n",
       "      <td>2</td>\n",
       "    </tr>\n",
       "    <tr>\n",
       "      <th>3</th>\n",
       "      <td>PTE. PERON</td>\n",
       "      <td>53950</td>\n",
       "      <td>0</td>\n",
       "      <td>3900</td>\n",
       "      <td>Avenida</td>\n",
       "      <td>ASFALTO S/GRANITO</td>\n",
       "      <td>BICISENDA</td>\n",
       "      <td>999</td>\n",
       "      <td>ALTO</td>\n",
       "      <td>MALO</td>\n",
       "      <td>REGULAR</td>\n",
       "      <td>NO</td>\n",
       "      <td>BUENA</td>\n",
       "      <td>31</td>\n",
       "      <td>unprotected</td>\n",
       "      <td>False</td>\n",
       "      <td>LINESTRING (2561553.349 6296485.928, 2561527.0...</td>\n",
       "      <td>3</td>\n",
       "    </tr>\n",
       "    <tr>\n",
       "      <th>4</th>\n",
       "      <td>PTE. PERON</td>\n",
       "      <td>53950</td>\n",
       "      <td>0</td>\n",
       "      <td>3900</td>\n",
       "      <td>Avenida</td>\n",
       "      <td>ASFALTO S/GRANITO</td>\n",
       "      <td>BICISENDA</td>\n",
       "      <td>999</td>\n",
       "      <td>ALTO</td>\n",
       "      <td>MALO</td>\n",
       "      <td>REGULAR</td>\n",
       "      <td>NO</td>\n",
       "      <td>BUENA</td>\n",
       "      <td>93</td>\n",
       "      <td>unprotected</td>\n",
       "      <td>False</td>\n",
       "      <td>LINESTRING (2561913.308 6296496.135, 2561833.6...</td>\n",
       "      <td>4</td>\n",
       "    </tr>\n",
       "  </tbody>\n",
       "</table>\n",
       "</div>"
      ],
      "text/plain": [
       "                    NOMBRE  CODCALLE  BIS  NUMERACION  CATEGORIA   \n",
       "0  PTE. PERON                  53950    0  4100        Avenida    \\\n",
       "1  PTE. PERON                  53950    0  3900        Avenida     \n",
       "2  PTE. PERON                  53950    0  3900        Avenida     \n",
       "3  PTE. PERON                  53950    0  3900        Avenida     \n",
       "4  PTE. PERON                  53950    0  3900        Avenida     \n",
       "\n",
       "              N_PAVI      CLASE  ANIO_CONST                   USO   \n",
       "0  ASFALTO S/GRANITO  BICISENDA         999  ALTO                  \\\n",
       "1  ASFALTO S/GRANITO  BICISENDA         999  ALTO                   \n",
       "2  ASFALTO S/GRANITO  BICISENDA         999  ALTO                   \n",
       "3  ASFALTO S/GRANITO  BICISENDA         999  ALTO                   \n",
       "4  ASFALTO S/GRANITO  BICISENDA         999  ALTO                   \n",
       "\n",
       "              ESTADO_SH            ESTADO_INF                RAMPAS   \n",
       "0  MALO                  REGULAR               NO                    \\\n",
       "1  MALO                  REGULAR               NO                     \n",
       "2  MALO                  REGULAR               NO                     \n",
       "3  MALO                  REGULAR               NO                     \n",
       "4  MALO                  REGULAR               NO                     \n",
       "\n",
       "             USABILIDAD  LONGITUD   protection  is_bidirectional   \n",
       "0  BUENA                       45  unprotected             False  \\\n",
       "1  BUENA                       38  unprotected             False   \n",
       "2  BUENA                        8  unprotected             False   \n",
       "3  BUENA                       31  unprotected             False   \n",
       "4  BUENA                       93  unprotected             False   \n",
       "\n",
       "                                            geometry  unique_id  \n",
       "0  LINESTRING (2560751.665 6296463.182, 2560713.0...          0  \n",
       "1  LINESTRING (2561136.418 6296486.665, 2561104.2...          1  \n",
       "2  LINESTRING (2561139.250 6296474.140, 2561132.1...          2  \n",
       "3  LINESTRING (2561553.349 6296485.928, 2561527.0...          3  \n",
       "4  LINESTRING (2561913.308 6296496.135, 2561833.6...          4  "
      ]
     },
     "execution_count": 28,
     "metadata": {},
     "output_type": "execute_result"
    }
   ],
   "source": [
    "final_gdf.head()"
   ]
  },
  {
   "cell_type": "code",
   "execution_count": 29,
   "metadata": {},
   "outputs": [
    {
     "data": {
      "text/plain": [
       "Counter({'unprotected': 432, 'protected': 644})"
      ]
     },
     "execution_count": 29,
     "metadata": {},
     "output_type": "execute_result"
    }
   ],
   "source": [
    "Counter(final_gdf.protection)"
   ]
  },
  {
   "cell_type": "code",
   "execution_count": 30,
   "metadata": {},
   "outputs": [
    {
     "data": {
      "text/plain": [
       "Counter({False: 1067, True: 9})"
      ]
     },
     "execution_count": 30,
     "metadata": {},
     "output_type": "execute_result"
    }
   ],
   "source": [
    "Counter(final_gdf.is_bidirectional)"
   ]
  },
  {
   "cell_type": "code",
   "execution_count": 31,
   "metadata": {},
   "outputs": [],
   "source": [
    "# reformat string to bool\n",
    "final_gdf.is_bidirectional = final_gdf.apply(\n",
    "    lambda x:\n",
    "    bool(x.is_bidirectional),\n",
    "    axis = 1\n",
    ")"
   ]
  },
  {
   "cell_type": "code",
   "execution_count": 32,
   "metadata": {},
   "outputs": [
    {
     "data": {
      "text/html": [
       "<div>\n",
       "<style scoped>\n",
       "    .dataframe tbody tr th:only-of-type {\n",
       "        vertical-align: middle;\n",
       "    }\n",
       "\n",
       "    .dataframe tbody tr th {\n",
       "        vertical-align: top;\n",
       "    }\n",
       "\n",
       "    .dataframe thead th {\n",
       "        text-align: right;\n",
       "    }\n",
       "</style>\n",
       "<table border=\"1\" class=\"dataframe\">\n",
       "  <thead>\n",
       "    <tr style=\"text-align: right;\">\n",
       "      <th></th>\n",
       "      <th>NOMBRE</th>\n",
       "      <th>CODCALLE</th>\n",
       "      <th>BIS</th>\n",
       "      <th>NUMERACION</th>\n",
       "      <th>CATEGORIA</th>\n",
       "      <th>N_PAVI</th>\n",
       "      <th>CLASE</th>\n",
       "      <th>ANIO_CONST</th>\n",
       "      <th>USO</th>\n",
       "      <th>ESTADO_SH</th>\n",
       "      <th>ESTADO_INF</th>\n",
       "      <th>RAMPAS</th>\n",
       "      <th>USABILIDAD</th>\n",
       "      <th>LONGITUD</th>\n",
       "      <th>protection</th>\n",
       "      <th>is_bidirectional</th>\n",
       "      <th>geometry</th>\n",
       "      <th>unique_id</th>\n",
       "    </tr>\n",
       "  </thead>\n",
       "  <tbody>\n",
       "    <tr>\n",
       "      <th>0</th>\n",
       "      <td>PTE. PERON</td>\n",
       "      <td>53950</td>\n",
       "      <td>0</td>\n",
       "      <td>4100</td>\n",
       "      <td>Avenida</td>\n",
       "      <td>ASFALTO S/GRANITO</td>\n",
       "      <td>BICISENDA</td>\n",
       "      <td>999</td>\n",
       "      <td>ALTO</td>\n",
       "      <td>MALO</td>\n",
       "      <td>REGULAR</td>\n",
       "      <td>NO</td>\n",
       "      <td>BUENA</td>\n",
       "      <td>45</td>\n",
       "      <td>unprotected</td>\n",
       "      <td>False</td>\n",
       "      <td>LINESTRING (2560751.665 6296463.182, 2560713.0...</td>\n",
       "      <td>0</td>\n",
       "    </tr>\n",
       "    <tr>\n",
       "      <th>1</th>\n",
       "      <td>PTE. PERON</td>\n",
       "      <td>53950</td>\n",
       "      <td>0</td>\n",
       "      <td>3900</td>\n",
       "      <td>Avenida</td>\n",
       "      <td>ASFALTO S/GRANITO</td>\n",
       "      <td>BICISENDA</td>\n",
       "      <td>999</td>\n",
       "      <td>ALTO</td>\n",
       "      <td>MALO</td>\n",
       "      <td>REGULAR</td>\n",
       "      <td>NO</td>\n",
       "      <td>BUENA</td>\n",
       "      <td>38</td>\n",
       "      <td>unprotected</td>\n",
       "      <td>False</td>\n",
       "      <td>LINESTRING (2561136.418 6296486.665, 2561104.2...</td>\n",
       "      <td>1</td>\n",
       "    </tr>\n",
       "    <tr>\n",
       "      <th>2</th>\n",
       "      <td>PTE. PERON</td>\n",
       "      <td>53950</td>\n",
       "      <td>0</td>\n",
       "      <td>3900</td>\n",
       "      <td>Avenida</td>\n",
       "      <td>ASFALTO S/GRANITO</td>\n",
       "      <td>BICISENDA</td>\n",
       "      <td>999</td>\n",
       "      <td>ALTO</td>\n",
       "      <td>MALO</td>\n",
       "      <td>REGULAR</td>\n",
       "      <td>NO</td>\n",
       "      <td>BUENA</td>\n",
       "      <td>8</td>\n",
       "      <td>unprotected</td>\n",
       "      <td>False</td>\n",
       "      <td>LINESTRING (2561139.250 6296474.140, 2561132.1...</td>\n",
       "      <td>2</td>\n",
       "    </tr>\n",
       "  </tbody>\n",
       "</table>\n",
       "</div>"
      ],
      "text/plain": [
       "                    NOMBRE  CODCALLE  BIS  NUMERACION  CATEGORIA   \n",
       "0  PTE. PERON                  53950    0  4100        Avenida    \\\n",
       "1  PTE. PERON                  53950    0  3900        Avenida     \n",
       "2  PTE. PERON                  53950    0  3900        Avenida     \n",
       "\n",
       "              N_PAVI      CLASE  ANIO_CONST                   USO   \n",
       "0  ASFALTO S/GRANITO  BICISENDA         999  ALTO                  \\\n",
       "1  ASFALTO S/GRANITO  BICISENDA         999  ALTO                   \n",
       "2  ASFALTO S/GRANITO  BICISENDA         999  ALTO                   \n",
       "\n",
       "              ESTADO_SH            ESTADO_INF                RAMPAS   \n",
       "0  MALO                  REGULAR               NO                    \\\n",
       "1  MALO                  REGULAR               NO                     \n",
       "2  MALO                  REGULAR               NO                     \n",
       "\n",
       "             USABILIDAD  LONGITUD   protection  is_bidirectional   \n",
       "0  BUENA                       45  unprotected             False  \\\n",
       "1  BUENA                       38  unprotected             False   \n",
       "2  BUENA                        8  unprotected             False   \n",
       "\n",
       "                                            geometry  unique_id  \n",
       "0  LINESTRING (2560751.665 6296463.182, 2560713.0...          0  \n",
       "1  LINESTRING (2561136.418 6296486.665, 2561104.2...          1  \n",
       "2  LINESTRING (2561139.250 6296474.140, 2561132.1...          2  "
      ]
     },
     "execution_count": 32,
     "metadata": {},
     "output_type": "execute_result"
    }
   ],
   "source": [
    "final_gdf.head(3)"
   ]
  },
  {
   "attachments": {},
   "cell_type": "markdown",
   "metadata": {},
   "source": [
    "**Save to file/folder as required by BikeDNA**"
   ]
  },
  {
   "cell_type": "code",
   "execution_count": 33,
   "metadata": {},
   "outputs": [],
   "source": [
    "final_gdf.to_file(\n",
    "    \"../data/REFERENCE/rosario/raw/reference_data.gpkg\", \n",
    "    index = False\n",
    "    )"
   ]
  },
  {
   "cell_type": "code",
   "execution_count": null,
   "metadata": {},
   "outputs": [],
   "source": []
  }
 ],
 "metadata": {
  "kernelspec": {
   "display_name": "OSMNX",
   "language": "python",
   "name": "python3"
  },
  "language_info": {
   "codemirror_mode": {
    "name": "ipython",
    "version": 3
   },
   "file_extension": ".py",
   "mimetype": "text/x-python",
   "name": "python",
   "nbconvert_exporter": "python",
   "pygments_lexer": "ipython3",
   "version": "3.9.15"
  },
  "orig_nbformat": 4
 },
 "nbformat": 4,
 "nbformat_minor": 2
}
